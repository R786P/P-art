{
 "cells": [
  {
   "cell_type": "markdown",
   "metadata": {},
   "source": [
    "# AAIDC Module 1: Ready Tensor RAG Assistant\n",
    "A simple RAG system that answers questions about Ready Tensor publications.\n",
    "Uses fake sample data (no scraping needed)."
   ]
  },
  {
   "cell_type": "code",
   "execution_count": null,
   "metadata": {},
   "outputs": [],
   "source": [
    "from langchain_community.document_loaders import TextLoader\n",
    "from langchain_text_splitters import RecursiveCharacterTextSplitter\n",
    "from langchain_community.vectorstores import FAISS\n",
    "from langchain_community.embeddings import HuggingFaceEmbeddings\n",
    "from transformers import pipeline\n",
    "from langchain_community.llms import HuggingFacePipeline\n",
    "from langchain.chains import RetrievalQA\n",
    "import os\n",
    "\n",
    "# Create sample publications (fake but realistic)\n",
    "sample_pubs = [\n",
    "    \"publication_1.txt\",\n",
    "    \"publication_2.txt\",\n",
    "    \"publication_3.txt\"\n",
    "]\n",
    "\n",
    "pub_contents = [\n",
    "    \"This publication explains Retrieval-Augmented Generation (RAG). RAG combines retrieval from a knowledge base with LLM generation. It is useful for factual QA systems. The author used LangChain and FAISS for implementation.\",\n",
    "    \"Agentic AI involves autonomous agents that can plan, act, and reflect. This work demonstrates a simple agent using ReAct prompting. Tools include calculator and search. Memory is implemented via conversational buffer.\",\n",
    "    \"Vector databases like FAISS enable fast similarity search. Embeddings are generated using sentence-transformers. This publication compares FAISS, Chroma, and Pinecone for small-scale RAG applications.\"\n",
    "]\n",
    "\n",
    "# Save fake publications\n",
    "os.makedirs(\"publications\", exist_ok=True)\n",
    "for fname, content in zip(sample_pubs, pub_contents):\n",
    "    with open(f\"publications/{fname}\", \"w\") as f:\n",
    "        f.write(content)"
   ]
  },
  {
   "cell_type": "code",
   "execution_count": null,
   "metadata": {},
   "outputs": [],
   "source": [
    "# Load and split documents\n",
    "docs = []\n",
    "for pub in sample_pubs:\n",
    "    loader = TextLoader(f\"publications/{pub}\")\n",
    "    docs.extend(loader.load())\n",
    "\n",
    "text_splitter = RecursiveCharacterTextSplitter(chunk_size=200, chunk_overlap=20)\n",
    "splits = text_splitter.split_documents(docs)"
   ]
  },
  {
   "cell_type": "code",
   "execution_count": null,
   "metadata": {},
   "outputs": [],
   "source": [
    "# Create vector store\n",
    "embeddings = HuggingFaceEmbeddings(model_name=\"sentence-transformers/all-MiniLM-L6-v2\")\n",
    "vectorstore = FAISS.from_documents(splits, embeddings)"
   ]
  },
  {
   "cell_type": "code",
   "execution_count": null,
   "metadata": {},
   "outputs": [],
   "source": [
    "# Set up lightweight LLM\n",
    "hf_pipe = pipeline(\"text-generation\", model=\"facebook/opt-125m\", max_new_tokens=100)\n",
    "llm = HuggingFacePipeline(pipeline=hf_pipe)"
   ]
  },
  {
   "cell_type": "code",
   "execution_count": null,
   "metadata": {},
   "outputs": [],
   "source": [
    "# Create RAG chain\n",
    "qa_chain = RetrievalQA.from_chain_type(\n",
    "    llm=llm,\n",
    "    retriever=vectorstore.as_retriever(),\n",
    "    chain_type=\"stuff\"\n",
    ")"
   ]
  },
  {
   "cell_type": "code",
   "execution_count": null,
   "metadata": {},
   "outputs": [],
   "source": [
    "# Test the assistant\n",
    "queries = [\n",
    "    \"What is RAG?\",\n",
    "    \"How is memory implemented in agentic AI?\",\n",
    "    \"Which vector databases are compared in the publications?\"\n",
    "]\n",
    "\n",
    "for query in queries:\n",
    "    print(f\"\\n❓ Q: {query}\")\n",
    "    response = qa_chain.invoke({\"query\": query})\n",
    "    print(f\"✅ A: {response['result'].strip()}\")"
   ]
  }
 ],
 "metadata": {
  "kernelspec": {
   "display_name": "Python 3",
   "language": "python",
   "name": "python3"
  },
  "language_info": {
   "name": "python",
   "version": "3.10.12"
  }
 },
 "nbformat": 4,
 "nbformat_minor": 2
}
